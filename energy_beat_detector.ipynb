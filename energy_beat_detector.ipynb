{
 "cells": [
  {
   "cell_type": "code",
   "execution_count": 1,
   "metadata": {},
   "outputs": [],
   "source": [
    "import numpy as np\n",
    "\n",
    "import matplotlib.pyplot as plt\n",
    "\n",
    "from scipy import signal\n",
    "from scipy.io import wavfile as wavfile\n",
    "\n",
    "## https://www.flipcode.com/misc/BeatDetectionAlgorithms.pdf"
   ]
  },
  {
   "cell_type": "markdown",
   "metadata": {},
   "source": [
    "\n",
    "http://www.flipcode.com/misc/BeatDetectionAlgorithms.pdf\n",
    "\n",
    "Implement the simple energy calculator by first calculating the ambient energy.\n",
    "\n",
    "ambient_energy = total sum of squares from a 44 blocks (1 second), then find the average per block\n"
   ]
  },
  {
   "cell_type": "code",
   "execution_count": 2,
   "metadata": {},
   "outputs": [],
   "source": [
    "class DataStream:\n",
    "    def __init__(self):\n",
    "        self.data = [] # fixed dimension, N seconds\n",
    "        self.start_offset = 0\n",
    "        self.filename = '/Users/lkang/psrc/ML/audio/audio/wav/Dire Straits - One World (online-audio-converter.com).wav' #youtube coolio gangsta paradise\n",
    "        self.sample_size = 1024\n",
    "        self.step_size = 1024\n",
    "        \n",
    "    def read_file(self):\n",
    "        self.rate, self.data = wavfile.read(self.filename)\n",
    "        self.data = self.data.astype('float')\n",
    "        print('data length: ', self.data.shape)\n",
    "        print('samples: ', self.data.shape[0] / self.sample_size)\n",
    "        print('dtype: ', self.data.dtype)\n",
    "\n",
    "    def set_data(self, data):\n",
    "        self.data = data\n",
    "\n",
    "    # next sample_size chunk\n",
    "    def next_sample(self):\n",
    "        start = 1000000 # start in the middle for debug\n",
    "        while True:\n",
    "            yield self.data[start:start+self.sample_size]\n",
    "            start += self.step_size\n",
    "            if start+self.sample_size > len(self.data):\n",
    "                break\n"
   ]
  },
  {
   "cell_type": "code",
   "execution_count": 3,
   "metadata": {},
   "outputs": [
    {
     "name": "stdout",
     "output_type": "stream",
     "text": [
      "data length:  (9704448, 2)\n",
      "samples:  9477.0\n",
      "dtype:  float64\n",
      "1024\n",
      "(1024, 2)\n",
      "(1024,)\n"
     ]
    }
   ],
   "source": [
    "# test DataStream\n",
    "myd = DataStream()\n",
    "myd.read_file()\n",
    "data_gen = myd.next_sample()\n",
    "s1 = next(data_gen)\n",
    "print(len(s1))\n",
    "print(s1.shape)\n",
    "print(s1[:,0].shape)\n"
   ]
  },
  {
   "cell_type": "code",
   "execution_count": 4,
   "metadata": {},
   "outputs": [
    {
     "data": {
      "image/png": "[encoded data removed]",
      "text/plain": [
       "<Figure size 432x288 with 2 Axes>"
      ]
     },
     "metadata": {
      "needs_background": "light"
     },
     "output_type": "display_data"
    }
   ],
   "source": [
    "# plot DataStream\n",
    "plt.subplot(2,1,1)\n",
    "plt.plot(s1[:, 0], 'r')\n",
    "plt.subplot(2,1,2)\n",
    "plt.plot(s1[:, 1])\n",
    "plt.show()"
   ]
  },
  {
   "cell_type": "code",
   "execution_count": 5,
   "metadata": {},
   "outputs": [],
   "source": [
    "class History:\n",
    "    def __init__(self, size):\n",
    "        self.ambient_history = np.zeros(size)\n",
    "        \n",
    "    def add_entry(self, new_entry):\n",
    "        self.ambient_history = self.ambient_history[1:].copy()\n",
    "        self.ambient_history = np.append(self.ambient_history, new_entry)\n",
    "\n",
    "    def power_of_entry(self, new_entry):\n",
    "        average = np.average(self.ambient_history)\n",
    "        if average < 0:\n",
    "            print('average history is < 0', average)\n",
    "\n",
    "        self.add_entry(new_entry)\n",
    "\n",
    "        if average == 0:\n",
    "            return 0\n",
    "        power = new_entry / average # multiply average by C?\n",
    "        return power\n"
   ]
  },
  {
   "cell_type": "code",
   "execution_count": 159,
   "metadata": {},
   "outputs": [
    {
     "name": "stdout",
     "output_type": "stream",
     "text": [
      "0\n",
      "5.0\n",
      "2.5\n",
      "1.6666666666666667\n",
      "1.25\n",
      "1.0\n",
      "1.0\n",
      "1.0\n"
     ]
    }
   ],
   "source": [
    "# test History\n",
    "myh = History(5)\n",
    "for i in np.arange(8):\n",
    "    p = myh.power_of_entry(5)\n",
    "    print(p)"
   ]
  },
  {
   "cell_type": "code",
   "execution_count": 77,
   "metadata": {},
   "outputs": [
    {
     "data": {
      "text/plain": [
       "array([1, 2, 3, 4, 5])"
      ]
     },
     "execution_count": 77,
     "metadata": {},
     "output_type": "execute_result"
    }
   ],
   "source": [
    "myarr = np.arange(1,6)\n",
    "myarr"
   ]
  },
  {
   "cell_type": "code",
   "execution_count": 160,
   "metadata": {},
   "outputs": [],
   "source": [
    "class Energy:\n",
    "    def __init__(self, sample):\n",
    "        self.sample = sample\n",
    "    \n",
    "    def calc_energy(self):\n",
    "        shape = self.sample.shape\n",
    "        sum = 0\n",
    "        for i in np.arange(shape[0]):\n",
    "            sum += self.sample[i, 0] * self.sample[i, 0] + self.sample[i, 1] * self.sample[i, 1]\n",
    "        average = sum / shape[0]\n",
    "        if average < 0:\n",
    "            print('average energy is < 0', average)\n",
    "        return average\n",
    "\n"
   ]
  },
  {
   "cell_type": "code",
   "execution_count": 161,
   "metadata": {},
   "outputs": [
    {
     "name": "stdout",
     "output_type": "stream",
     "text": [
      "[[0 1 2 3 4]\n",
      " [0 1 2 3 4]]\n",
      "[[0 0]\n",
      " [1 1]\n",
      " [2 2]\n",
      " [3 3]\n",
      " [4 4]]\n",
      "12.0\n"
     ]
    }
   ],
   "source": [
    "# test Energy\n",
    "s = np.array([np.arange(5), np.arange(5)])\n",
    "# s.resize((s.shape[1], s.shape[0]))\n",
    "print(s)\n",
    "s = np.swapaxes(s, 0, 1)\n",
    "print(s)\n",
    "mye = Energy(s)\n",
    "e = mye.calc_energy()\n",
    "print(e)"
   ]
  },
  {
   "cell_type": "code",
   "execution_count": 195,
   "metadata": {},
   "outputs": [
    {
     "name": "stdout",
     "output_type": "stream",
     "text": [
      "data length:  (9704448, 2)\n",
      "samples:  9477.0\n",
      "dtype:  float64\n"
     ]
    }
   ],
   "source": [
    "# Find the beats\n",
    "myd = DataStream()\n",
    "history = History(44)\n",
    "\n",
    "myd.read_file()\n",
    "data_gen = myd.next_sample()\n",
    "\n",
    "power_array = np.array([0])\n",
    "\n",
    "for i in np.arange(8000):\n",
    "    sample = next(data_gen)\n",
    "    e = Energy(sample)\n",
    "    sample_energy = e.calc_energy()\n",
    "    power = history.power_of_entry(sample_energy)\n",
    "    power_array = np.append(power_array, power)\n"
   ]
  },
  {
   "cell_type": "markdown",
   "metadata": {},
   "source": [
    "Dire Straits - One World ~107 BPM.\n",
    "\n",
    "1 window = 1024 samples.  Sample rate is 44.1 KHz\n",
    "43 windows per second = 60 * 43 windows / minute\n",
    "\n",
    "(60*43) wpm / 107 bpm = 24.112 windows per beat\n",
    "\n",
    "Does the plot match this tempo?"
   ]
  },
  {
   "cell_type": "code",
   "execution_count": 198,
   "metadata": {},
   "outputs": [
    {
     "data": {
      "image/png": "[encoded data removed]",
      "text/plain": [
       "<Figure size 432x288 with 1 Axes>"
      ]
     },
     "metadata": {
      "needs_background": "light"
     },
     "output_type": "display_data"
    }
   ],
   "source": [
    "# Plot the detected beats\n",
    "plt.subplot(2,1,1)\n",
    "plt.plot(power_array[100:600], 'r')\n",
    "plt.show()"
   ]
  },
  {
   "cell_type": "code",
   "execution_count": 174,
   "metadata": {},
   "outputs": [
    {
     "data": {
      "text/plain": [
       "(10001,)"
      ]
     },
     "execution_count": 174,
     "metadata": {},
     "output_type": "execute_result"
    }
   ],
   "source": [
    "power_array.shape"
   ]
  }
 ],
 "metadata": {
  "kernelspec": {
   "display_name": "Python 3",
   "language": "python",
   "name": "python3"
  },
  "language_info": {
   "codemirror_mode": {
    "name": "ipython",
    "version": 3
   },
   "file_extension": ".py",
   "mimetype": "text/x-python",
   "name": "python",
   "nbconvert_exporter": "python",
   "pygments_lexer": "ipython3",
   "version": "3.7.4"
  }
 },
 "nbformat": 4,
 "nbformat_minor": 2
}
